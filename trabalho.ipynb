{
  "cells": [
    {
      "cell_type": "markdown",
      "metadata": {
        "id": "view-in-github",
        "colab_type": "text"
      },
      "source": [
        "<a href=\"https://colab.research.google.com/github/gustavogrds/EDA_2022_1SEM/blob/main/trabalho.ipynb\" target=\"_parent\"><img src=\"https://colab.research.google.com/assets/colab-badge.svg\" alt=\"Open In Colab\"/></a>"
      ]
    },
    {
      "cell_type": "code",
      "execution_count": null,
      "id": "9ea326f6",
      "metadata": {
        "id": "9ea326f6"
      },
      "outputs": [],
      "source": [
        "import pandas as pd\n",
        "import matplotlib.pyplot as plt"
      ]
    },
    {
      "cell_type": "code",
      "execution_count": null,
      "id": "20cd3f37",
      "metadata": {
        "scrolled": true,
        "id": "20cd3f37"
      },
      "outputs": [],
      "source": [
        "d1=pd.read_csv('HIST_PAINEL_COVIDBR_2021_Parte1_02jun2022.csv',sep=';')\n",
        "d2=pd.read_csv('HIST_PAINEL_COVIDBR_2021_Parte2_02jun2022.csv',sep=';')\n",
        "dados=pd.concat([d1,d2])\n",
        "dados.index=range(0,len(dados))"
      ]
    },
    {
      "cell_type": "markdown",
      "id": "777ee2a0",
      "metadata": {
        "id": "777ee2a0"
      },
      "source": [
        "# Pergunta 1\n",
        "### Qual a região com maior número óbitos? \n",
        "### Qual a região com a maior média de número óbitos? \n",
        "### gráfico dos obitos de barras com número obitos por mês"
      ]
    },
    {
      "cell_type": "code",
      "execution_count": null,
      "id": "5f84e3fe",
      "metadata": {
        "scrolled": true,
        "id": "5f84e3fe",
        "outputId": "cf846785-ab13-47cb-aaad-70d2d94b4aaf"
      },
      "outputs": [
        {
          "name": "stdout",
          "output_type": "stream",
          "text": [
            "A região com maior número de óbitos é a regiao Sudeste com um número de óbitos de 158345934.\n"
          ]
        }
      ],
      "source": [
        "dtObitos=dados[['regiao','obitosAcumulado']].groupby('regiao').sum().drop('Brasil').sort_values(by='obitosAcumulado',ascending=False)\n",
        "dtObitos['regiao']=dtObitos.index\n",
        "dtObitos.index=range(0,len(dtObitos))\n",
        "print('A região com maior número de óbitos é a regiao ' + dtObitos['regiao'][0] + ' com um número de óbitos de ' + '{}'.format(dtObitos['obitosAcumulado'][0])+'.')"
      ]
    },
    {
      "cell_type": "code",
      "execution_count": null,
      "id": "aa3ccfe9",
      "metadata": {
        "id": "aa3ccfe9",
        "outputId": "1245fd92-a388-4086-a36d-eb8d624dd23d"
      },
      "outputs": [
        {
          "name": "stdout",
          "output_type": "stream",
          "text": [
            "A região com maior média de número de óbitos é a regiao Sudeste com uma média de número de óbitos de 258.8452.\n"
          ]
        }
      ],
      "source": [
        "dtMediaObitos=dados[['regiao','obitosAcumulado']].groupby('regiao').mean().drop('Brasil').sort_values(by='obitosAcumulado',ascending=False)\n",
        "dtMediaObitos['regiao']=dtMediaObitos.index\n",
        "dtMediaObitos.index=range(0,len(dtMediaObitos))\n",
        "print('A região com maior média de número de óbitos é a regiao ' + dtMediaObitos['regiao'][0] + ' com uma média de número de óbitos de {}'.format(round(dtMediaObitos['obitosAcumulado'][0],4))+'.')"
      ]
    },
    {
      "cell_type": "code",
      "execution_count": null,
      "id": "d81d7836",
      "metadata": {
        "scrolled": true,
        "id": "d81d7836"
      },
      "outputs": [],
      "source": [
        "meses={1:'01_Janeiro',2:'02_Fevereiro',3:'03_Março',4:'04_Abril',5:'05_Maio',6:'06_Junho',7:'07_Julho',8:'08_Agosto',\n",
        "     9:'09_Setembro',10:'10_Outubro',11:'11_Novembro',12:'12_Dezembro'}\n",
        "dados['mes']=[meses[int(x[5:7])] for x in dados['data']]\n",
        "dadosGrafico=dados[['mes','obitosAcumulado']].groupby('mes').sum()\n",
        "dadosGrafico['mes']=dadosGrafico.index\n",
        "dadosGrafico.index=range(0,len(dadosGrafico))"
      ]
    },
    {
      "cell_type": "code",
      "execution_count": null,
      "id": "1cc86c89",
      "metadata": {
        "scrolled": true,
        "id": "1cc86c89",
        "outputId": "31dcd9fd-1567-465e-8e64-39f62ce68547"
      },
      "outputs": [
        {
          "data": {
            "image/png": "[encoded data removed]",
            "text/plain": [
              "<Figure size 1440x360 with 1 Axes>"
            ]
          },
          "metadata": {
            "needs_background": "light"
          },
          "output_type": "display_data"
        }
      ],
      "source": [
        "plt.figure(figsize=(20, 5))\n",
        "plt.bar(dadosGrafico['mes'],dadosGrafico['obitosAcumulado'])\n",
        "plt.show()"
      ]
    },
    {
      "cell_type": "markdown",
      "id": "60409700",
      "metadata": {
        "id": "60409700"
      },
      "source": [
        "# Pergunta 2\n",
        "### Em qual mês os casos novos pararam de crescer?\n",
        "### gráfico dos casos novos"
      ]
    },
    {
      "cell_type": "code",
      "execution_count": null,
      "id": "82dd8e81",
      "metadata": {
        "id": "82dd8e81"
      },
      "outputs": [],
      "source": [
        "dadosGrafico=dados[['mes','casosNovos']].groupby('mes').mean()\n",
        "dadosGrafico['mes']=dadosGrafico.index\n",
        "dadosGrafico.index=range(0,len(dadosGrafico))"
      ]
    },
    {
      "cell_type": "code",
      "execution_count": null,
      "id": "8f4e7d42",
      "metadata": {
        "id": "8f4e7d42"
      },
      "outputs": [],
      "source": [
        "dadosGrafico['Bandas']=((dadosGrafico['casosNovos']/dadosGrafico['casosNovos'].shift(1))-1)*100\n",
        "dadosGrafico.fillna(0,inplace=True)"
      ]
    },
    {
      "cell_type": "code",
      "execution_count": null,
      "id": "00147a6d",
      "metadata": {
        "scrolled": true,
        "id": "00147a6d",
        "outputId": "8ed99956-c793-4685-bb5f-a2364ed860cd"
      },
      "outputs": [
        {
          "data": {
            "text/html": [
              "<div>\n",
              "<style scoped>\n",
              "    .dataframe tbody tr th:only-of-type {\n",
              "        vertical-align: middle;\n",
              "    }\n",
              "\n",
              "    .dataframe tbody tr th {\n",
              "        vertical-align: top;\n",
              "    }\n",
              "\n",
              "    .dataframe thead th {\n",
              "        text-align: right;\n",
              "    }\n",
              "</style>\n",
              "<table border=\"1\" class=\"dataframe\">\n",
              "  <thead>\n",
              "    <tr style=\"text-align: right;\">\n",
              "      <th></th>\n",
              "      <th>casosNovos</th>\n",
              "      <th>mes</th>\n",
              "      <th>Bandas</th>\n",
              "    </tr>\n",
              "  </thead>\n",
              "  <tbody>\n",
              "    <tr>\n",
              "      <th>0</th>\n",
              "      <td>26.329297</td>\n",
              "      <td>01_Janeiro</td>\n",
              "      <td>0.000000</td>\n",
              "    </tr>\n",
              "    <tr>\n",
              "      <th>1</th>\n",
              "      <td>25.675540</td>\n",
              "      <td>02_Fevereiro</td>\n",
              "      <td>-2.483005</td>\n",
              "    </tr>\n",
              "    <tr>\n",
              "      <th>2</th>\n",
              "      <td>37.846615</td>\n",
              "      <td>03_Março</td>\n",
              "      <td>47.403386</td>\n",
              "    </tr>\n",
              "    <tr>\n",
              "      <th>3</th>\n",
              "      <td>33.996512</td>\n",
              "      <td>04_Abril</td>\n",
              "      <td>-10.172913</td>\n",
              "    </tr>\n",
              "    <tr>\n",
              "      <th>4</th>\n",
              "      <td>32.491311</td>\n",
              "      <td>05_Maio</td>\n",
              "      <td>-4.427515</td>\n",
              "    </tr>\n",
              "    <tr>\n",
              "      <th>5</th>\n",
              "      <td>35.799733</td>\n",
              "      <td>06_Junho</td>\n",
              "      <td>10.182482</td>\n",
              "    </tr>\n",
              "    <tr>\n",
              "      <th>6</th>\n",
              "      <td>31.484303</td>\n",
              "      <td>07_Julho</td>\n",
              "      <td>-12.054365</td>\n",
              "    </tr>\n",
              "    <tr>\n",
              "      <th>7</th>\n",
              "      <td>19.808471</td>\n",
              "      <td>08_Agosto</td>\n",
              "      <td>-37.084614</td>\n",
              "    </tr>\n",
              "    <tr>\n",
              "      <th>8</th>\n",
              "      <td>15.458582</td>\n",
              "      <td>09_Setembro</td>\n",
              "      <td>-21.959738</td>\n",
              "    </tr>\n",
              "    <tr>\n",
              "      <th>9</th>\n",
              "      <td>8.845851</td>\n",
              "      <td>10_Outubro</td>\n",
              "      <td>-42.777089</td>\n",
              "    </tr>\n",
              "    <tr>\n",
              "      <th>10</th>\n",
              "      <td>6.784969</td>\n",
              "      <td>11_Novembro</td>\n",
              "      <td>-23.297720</td>\n",
              "    </tr>\n",
              "    <tr>\n",
              "      <th>11</th>\n",
              "      <td>4.498170</td>\n",
              "      <td>12_Dezembro</td>\n",
              "      <td>-33.703895</td>\n",
              "    </tr>\n",
              "  </tbody>\n",
              "</table>\n",
              "</div>"
            ],
            "text/plain": [
              "    casosNovos           mes     Bandas\n",
              "0    26.329297    01_Janeiro   0.000000\n",
              "1    25.675540  02_Fevereiro  -2.483005\n",
              "2    37.846615      03_Março  47.403386\n",
              "3    33.996512      04_Abril -10.172913\n",
              "4    32.491311       05_Maio  -4.427515\n",
              "5    35.799733      06_Junho  10.182482\n",
              "6    31.484303      07_Julho -12.054365\n",
              "7    19.808471     08_Agosto -37.084614\n",
              "8    15.458582   09_Setembro -21.959738\n",
              "9     8.845851    10_Outubro -42.777089\n",
              "10    6.784969   11_Novembro -23.297720\n",
              "11    4.498170   12_Dezembro -33.703895"
            ]
          },
          "execution_count": 120,
          "metadata": {},
          "output_type": "execute_result"
        }
      ],
      "source": [
        "dadosGrafico"
      ]
    },
    {
      "cell_type": "markdown",
      "id": "768ac142",
      "metadata": {
        "id": "768ac142"
      },
      "source": [
        "#### é possível notar que a média de casos novos desacelara depois de julho/2021"
      ]
    },
    {
      "cell_type": "code",
      "execution_count": null,
      "id": "2a919ffb",
      "metadata": {
        "scrolled": true,
        "id": "2a919ffb",
        "outputId": "553d525e-7828-4789-fa8e-23c9552ad55e"
      },
      "outputs": [
        {
          "data": {
            "image/png": "[encoded data removed]",
            "text/plain": [
              "<Figure size 1440x360 with 1 Axes>"
            ]
          },
          "metadata": {
            "needs_background": "light"
          },
          "output_type": "display_data"
        }
      ],
      "source": [
        "dadosGrafico=dados[['mes','casosNovos']].groupby('mes').sum()\n",
        "dadosGrafico['mes']=dadosGrafico.index\n",
        "dadosGrafico.index=range(0,len(dadosGrafico))\n",
        "plt.figure(figsize=(20, 5))\n",
        "plt.bar(dadosGrafico['mes'],dadosGrafico['casosNovos'])\n",
        "plt.show()"
      ]
    },
    {
      "cell_type": "markdown",
      "id": "d9371e7b",
      "metadata": {
        "id": "d9371e7b"
      },
      "source": [
        "# Pergunta 3\n",
        "### Em qual a mês a curva de obitosAcumulado se estabiliza?"
      ]
    },
    {
      "cell_type": "code",
      "execution_count": null,
      "id": "bc4ee01a",
      "metadata": {
        "id": "bc4ee01a",
        "outputId": "ffd354fc-03be-486f-da8b-7fe7b1ff10ee"
      },
      "outputs": [
        {
          "data": {
            "text/plain": [
              "[<matplotlib.lines.Line2D at 0x1d0a3fa9bb0>]"
            ]
          },
          "execution_count": 142,
          "metadata": {},
          "output_type": "execute_result"
        },
        {
          "data": {
            "image/png": "[encoded data removed]",
            "text/plain": [
              "<Figure size 1440x360 with 1 Axes>"
            ]
          },
          "metadata": {
            "needs_background": "light"
          },
          "output_type": "display_data"
        }
      ],
      "source": [
        "dadosGrafico=dados[['mes','obitosAcumulado']].groupby('mes').sum()\n",
        "dadosGrafico['mes']=dadosGrafico.index\n",
        "dadosGrafico.index=range(0,len(dadosGrafico))\n",
        "plt.figure(figsize=(20, 5))\n",
        "plt.plot(dadosGrafico['mes'],dadosGrafico['obitosAcumulado'])"
      ]
    },
    {
      "cell_type": "markdown",
      "id": "4d76c292",
      "metadata": {
        "id": "4d76c292"
      },
      "source": [
        "Os óbitos estabilizam no mesmo mês que os casos de casos novos estabilizaram, o que deve-se em grande parte ao início da campanha de vacinação em massa. "
      ]
    },
    {
      "cell_type": "markdown",
      "id": "7ceed87d",
      "metadata": {
        "id": "7ceed87d"
      },
      "source": [
        "## Pergunta 4\n",
        "### Qual dia ocorre o maior BUM de casos novos? \n",
        "### Qual dia ocorre o menor BUM de casos novos? "
      ]
    },
    {
      "cell_type": "code",
      "execution_count": null,
      "id": "b8755d22",
      "metadata": {
        "scrolled": true,
        "id": "b8755d22"
      },
      "outputs": [],
      "source": [
        "dtMax=dados[dados['casosNovos']==dados['casosNovos'].max()]['data'].drop_duplicates()\n",
        "dtMax.index=range(0,len(dtMax))\n",
        "\n",
        "dtMin=dados[dados['casosNovos']==dados['casosNovos'].min()]['data'].drop_duplicates()\n",
        "dtMin.index=range(0,len(dtMin))"
      ]
    },
    {
      "cell_type": "code",
      "execution_count": null,
      "id": "a68a0e87",
      "metadata": {
        "id": "a68a0e87",
        "outputId": "c1a57bee-d006-4405-a9f4-c6ef37674645"
      },
      "outputs": [
        {
          "name": "stdout",
          "output_type": "stream",
          "text": [
            "O dia que ocorre o maior BUM de casos novos é 2021-09-18.\n",
            "\n",
            "O dia que ocorre o menor BUM de casos novos é 2021-11-24.\n"
          ]
        }
      ],
      "source": [
        "print('O dia que ocorre o maior BUM de casos novos é '+str(dtMax.loc[0]+'.'))\n",
        "print()\n",
        "print('O dia que ocorre o menor BUM de casos novos é '+str(dtMin.loc[0]+'.'))"
      ]
    },
    {
      "cell_type": "markdown",
      "id": "ad615e20",
      "metadata": {
        "id": "ad615e20"
      },
      "source": [
        "## Pergunta 5\n",
        "### Qual dia do mês geralmente é o menor de casos novos?"
      ]
    },
    {
      "cell_type": "code",
      "execution_count": null,
      "id": "da3af150",
      "metadata": {
        "scrolled": true,
        "id": "da3af150"
      },
      "outputs": [],
      "source": [
        "l=[]\n",
        "\n",
        "for mesSelecao in dados['mes'].drop_duplicates():\n",
        "    dt=dados[dados['mes']==mesSelecao]\n",
        "    dt.index=range(0,len(dt))\n",
        "    \n",
        "    dtMin=dt[dt['casosNovos']==dt['casosNovos'].min()]['data'].drop_duplicates()\n",
        "    dtMin.index=range(0,len(dtMin))\n",
        "    dtMin=dtMin[0][-2:]\n",
        "    l.append([dtMin,mesSelecao])"
      ]
    },
    {
      "cell_type": "code",
      "execution_count": null,
      "id": "65221612",
      "metadata": {
        "id": "65221612"
      },
      "outputs": [],
      "source": [
        "dt=pd.DataFrame(l,columns=['Dia','Mês'])\n",
        "dt=dt[['Mês','Dia']]"
      ]
    },
    {
      "cell_type": "code",
      "execution_count": null,
      "id": "3e87fba5",
      "metadata": {
        "id": "3e87fba5",
        "outputId": "01b5278c-6998-49ce-b543-9d520f5b7a26"
      },
      "outputs": [
        {
          "data": {
            "text/html": [
              "<div>\n",
              "<style scoped>\n",
              "    .dataframe tbody tr th:only-of-type {\n",
              "        vertical-align: middle;\n",
              "    }\n",
              "\n",
              "    .dataframe tbody tr th {\n",
              "        vertical-align: top;\n",
              "    }\n",
              "\n",
              "    .dataframe thead th {\n",
              "        text-align: right;\n",
              "    }\n",
              "</style>\n",
              "<table border=\"1\" class=\"dataframe\">\n",
              "  <thead>\n",
              "    <tr style=\"text-align: right;\">\n",
              "      <th></th>\n",
              "      <th>Mês</th>\n",
              "      <th>Dia</th>\n",
              "    </tr>\n",
              "  </thead>\n",
              "  <tbody>\n",
              "    <tr>\n",
              "      <th>0</th>\n",
              "      <td>01_Janeiro</td>\n",
              "      <td>07</td>\n",
              "    </tr>\n",
              "    <tr>\n",
              "      <th>1</th>\n",
              "      <td>02_Fevereiro</td>\n",
              "      <td>19</td>\n",
              "    </tr>\n",
              "    <tr>\n",
              "      <th>2</th>\n",
              "      <td>03_Março</td>\n",
              "      <td>10</td>\n",
              "    </tr>\n",
              "    <tr>\n",
              "      <th>3</th>\n",
              "      <td>04_Abril</td>\n",
              "      <td>08</td>\n",
              "    </tr>\n",
              "    <tr>\n",
              "      <th>4</th>\n",
              "      <td>05_Maio</td>\n",
              "      <td>24</td>\n",
              "    </tr>\n",
              "    <tr>\n",
              "      <th>5</th>\n",
              "      <td>06_Junho</td>\n",
              "      <td>04</td>\n",
              "    </tr>\n",
              "    <tr>\n",
              "      <th>6</th>\n",
              "      <td>07_Julho</td>\n",
              "      <td>02</td>\n",
              "    </tr>\n",
              "    <tr>\n",
              "      <th>7</th>\n",
              "      <td>08_Agosto</td>\n",
              "      <td>03</td>\n",
              "    </tr>\n",
              "    <tr>\n",
              "      <th>8</th>\n",
              "      <td>09_Setembro</td>\n",
              "      <td>21</td>\n",
              "    </tr>\n",
              "    <tr>\n",
              "      <th>9</th>\n",
              "      <td>10_Outubro</td>\n",
              "      <td>06</td>\n",
              "    </tr>\n",
              "    <tr>\n",
              "      <th>10</th>\n",
              "      <td>11_Novembro</td>\n",
              "      <td>24</td>\n",
              "    </tr>\n",
              "    <tr>\n",
              "      <th>11</th>\n",
              "      <td>12_Dezembro</td>\n",
              "      <td>27</td>\n",
              "    </tr>\n",
              "  </tbody>\n",
              "</table>\n",
              "</div>"
            ],
            "text/plain": [
              "             Mês Dia\n",
              "0     01_Janeiro  07\n",
              "1   02_Fevereiro  19\n",
              "2       03_Março  10\n",
              "3       04_Abril  08\n",
              "4        05_Maio  24\n",
              "5       06_Junho  04\n",
              "6       07_Julho  02\n",
              "7      08_Agosto  03\n",
              "8    09_Setembro  21\n",
              "9     10_Outubro  06\n",
              "10   11_Novembro  24\n",
              "11   12_Dezembro  27"
            ]
          },
          "execution_count": 223,
          "metadata": {},
          "output_type": "execute_result"
        }
      ],
      "source": [
        "dt"
      ]
    },
    {
      "cell_type": "code",
      "execution_count": null,
      "id": "3a805c64",
      "metadata": {
        "scrolled": true,
        "id": "3a805c64",
        "outputId": "d4cdbb57-ce04-4956-9657-5a2f2c43a4f5"
      },
      "outputs": [
        {
          "data": {
            "text/plain": [
              "5"
            ]
          },
          "execution_count": 224,
          "metadata": {},
          "output_type": "execute_result"
        }
      ],
      "source": [
        "i=0\n",
        "for x in dt['Dia']:\n",
        "    i+=int(x)\n",
        "mediaDia=int(round(i/30,0))"
      ]
    },
    {
      "cell_type": "code",
      "execution_count": null,
      "id": "c056deed",
      "metadata": {
        "id": "c056deed",
        "outputId": "d45cb2aa-aaf7-4e32-9a20-b51dcf8b3211"
      },
      "outputs": [
        {
          "name": "stdout",
          "output_type": "stream",
          "text": [
            "Em dia todo dia 5 tem menos casos que o mês todo.\n"
          ]
        }
      ],
      "source": [
        "print('Em dia todo dia '+str(mediaDia)+' tem menos casos que o mês todo.')"
      ]
    },
    {
      "cell_type": "markdown",
      "id": "9a973f3f",
      "metadata": {
        "id": "9a973f3f"
      },
      "source": [
        "# Pergunta 6\n",
        "#### Qual o dia de mais obitos do ano de 2021?\n",
        "#### Qual o dia de menos obitos do ano de 2021?\n",
        "#### Existe algum dia que nçao morreu ninguém de covid?"
      ]
    },
    {
      "cell_type": "code",
      "execution_count": null,
      "id": "2b62c413",
      "metadata": {
        "id": "2b62c413"
      },
      "outputs": [],
      "source": [
        "dtMax=dados[dados['obitosNovos']==dados['obitosNovos'].max()]\n",
        "dtMin=dados[dados['obitosNovos']==dados['obitosNovos'].min()]"
      ]
    },
    {
      "cell_type": "code",
      "execution_count": null,
      "id": "9590f499",
      "metadata": {
        "scrolled": true,
        "id": "9590f499",
        "outputId": "46afc3a2-05d6-4a94-ef06-c5bf12985d66"
      },
      "outputs": [
        {
          "data": {
            "text/html": [
              "<div>\n",
              "<style scoped>\n",
              "    .dataframe tbody tr th:only-of-type {\n",
              "        vertical-align: middle;\n",
              "    }\n",
              "\n",
              "    .dataframe tbody tr th {\n",
              "        vertical-align: top;\n",
              "    }\n",
              "\n",
              "    .dataframe thead th {\n",
              "        text-align: right;\n",
              "    }\n",
              "</style>\n",
              "<table border=\"1\" class=\"dataframe\">\n",
              "  <thead>\n",
              "    <tr style=\"text-align: right;\">\n",
              "      <th></th>\n",
              "      <th>data</th>\n",
              "      <th>obitosNovos</th>\n",
              "    </tr>\n",
              "  </thead>\n",
              "  <tbody>\n",
              "    <tr>\n",
              "      <th>339</th>\n",
              "      <td>2021-06-08</td>\n",
              "      <td>0</td>\n",
              "    </tr>\n",
              "    <tr>\n",
              "      <th>354</th>\n",
              "      <td>2021-06-23</td>\n",
              "      <td>0</td>\n",
              "    </tr>\n",
              "    <tr>\n",
              "      <th>370</th>\n",
              "      <td>2021-01-09</td>\n",
              "      <td>0</td>\n",
              "    </tr>\n",
              "    <tr>\n",
              "      <th>377</th>\n",
              "      <td>2021-01-16</td>\n",
              "      <td>0</td>\n",
              "    </tr>\n",
              "    <tr>\n",
              "      <th>502</th>\n",
              "      <td>2021-05-21</td>\n",
              "      <td>0</td>\n",
              "    </tr>\n",
              "    <tr>\n",
              "      <th>...</th>\n",
              "      <td>...</td>\n",
              "      <td>...</td>\n",
              "    </tr>\n",
              "    <tr>\n",
              "      <th>2051851</th>\n",
              "      <td>2021-12-12</td>\n",
              "      <td>0</td>\n",
              "    </tr>\n",
              "    <tr>\n",
              "      <th>2051857</th>\n",
              "      <td>2021-12-18</td>\n",
              "      <td>0</td>\n",
              "    </tr>\n",
              "    <tr>\n",
              "      <th>2051858</th>\n",
              "      <td>2021-12-19</td>\n",
              "      <td>0</td>\n",
              "    </tr>\n",
              "    <tr>\n",
              "      <th>2051864</th>\n",
              "      <td>2021-12-25</td>\n",
              "      <td>0</td>\n",
              "    </tr>\n",
              "    <tr>\n",
              "      <th>2051865</th>\n",
              "      <td>2021-12-26</td>\n",
              "      <td>0</td>\n",
              "    </tr>\n",
              "  </tbody>\n",
              "</table>\n",
              "<p>1869328 rows × 2 columns</p>\n",
              "</div>"
            ],
            "text/plain": [
              "               data  obitosNovos\n",
              "339      2021-06-08            0\n",
              "354      2021-06-23            0\n",
              "370      2021-01-09            0\n",
              "377      2021-01-16            0\n",
              "502      2021-05-21            0\n",
              "...             ...          ...\n",
              "2051851  2021-12-12            0\n",
              "2051857  2021-12-18            0\n",
              "2051858  2021-12-19            0\n",
              "2051864  2021-12-25            0\n",
              "2051865  2021-12-26            0\n",
              "\n",
              "[1869328 rows x 2 columns]"
            ]
          },
          "execution_count": 232,
          "metadata": {},
          "output_type": "execute_result"
        }
      ],
      "source": [
        "dados[dados['obitosNovos']==0][['data','obitosNovos']]"
      ]
    }
  ],
  "metadata": {
    "kernelspec": {
      "display_name": "Python 3 (ipykernel)",
      "language": "python",
      "name": "python3"
    },
    "language_info": {
      "codemirror_mode": {
        "name": "ipython",
        "version": 3
      },
      "file_extension": ".py",
      "mimetype": "text/x-python",
      "name": "python",
      "nbconvert_exporter": "python",
      "pygments_lexer": "ipython3",
      "version": "3.9.7"
    },
    "colab": {
      "name": "trabalho.ipynb",
      "provenance": [],
      "include_colab_link": true
    }
  },
  "nbformat": 4,
  "nbformat_minor": 5
}